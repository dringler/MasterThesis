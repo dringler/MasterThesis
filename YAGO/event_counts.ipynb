{
 "cells": [
  {
   "cell_type": "code",
   "execution_count": 18,
   "metadata": {
    "collapsed": false
   },
   "outputs": [
    {
     "name": "stdout",
     "output_type": "stream",
     "text": [
      "START\n",
      "read fLL\n",
      "7655 lines read in fLL\n",
      "read fH\n",
      "13753 lines read in fH\n",
      "items in llSet: 7654\n",
      "items in hSet: 13752\n",
      "number of distinct events that are in the hSet and not in thellSet: 10364\n",
      "number of distinct events that are in the hSet and not in thellSet: 4266\n",
      "number of events that are in both sets: 3388\n",
      "FINISHED\n",
      "EXECUTION TIME: 0.0556089878082 s\n"
     ]
    }
   ],
   "source": [
    "# read equivalent classes\n",
    "\n",
    "import os\n",
    "import time\n",
    "import string\n",
    "import itertools\n",
    "import re\n",
    "\n",
    "start = time.time()\n",
    "\n",
    "lineCounter = 0\n",
    "lineProgress = 1000\n",
    "\n",
    "fLL = 'yago_events_with_happenedOnDate_lat_lon.csv'\n",
    "fH = 'yago_events_with_happenedOnDate_happenedIn.csv'\n",
    "\n",
    "llSet = set()\n",
    "hSet = set()\n",
    "distinctSetLL = set()\n",
    "distinctSetH = set()\n",
    "duplicatesSet = set()\n",
    "\n",
    "try:\n",
    "    print ('START')\n",
    "    print ('read fLL')\n",
    "    rLL = open(fLL, 'r')\n",
    "    for line in rLL:\n",
    "        if lineCounter != 0: #exclude header line\n",
    "            llSet.add(line)\n",
    "        lineCounter += 1\n",
    "    print ('{} lines read in fLL'.format(lineCounter))\n",
    "    rLL.close()\n",
    "    \n",
    "    lineCounter = 0\n",
    "    print ('read fH')\n",
    "    rH = open(fH, 'r')\n",
    "    for line in rH:\n",
    "        if lineCounter != 0: #exclude header line\n",
    "            hSet.add(line)\n",
    "        lineCounter += 1\n",
    "    print ('{} lines read in fH'.format(lineCounter))\n",
    "    rH.close()\n",
    "    \n",
    "    print ('items in llSet: {}'.format(len(llSet)))\n",
    "    print ('items in hSet: {}'.format(len(hSet)))\n",
    "    \n",
    "    for event in hSet:\n",
    "        if event not in llSet:\n",
    "            distinctSetH.add(event)\n",
    "    print ('number of distinct events that are in the hSet and not in thellSet: {}'.format(len(distinctSetH)))\n",
    "    \n",
    "    for event in llSet:\n",
    "        if event not in hSet:\n",
    "            distinctSetLL.add(event)\n",
    "    print ('number of distinct events that are in the hSet and not in thellSet: {}'.format(len(distinctSetLL)))\n",
    "    \n",
    "    for event in hSet:\n",
    "        if event in llSet:\n",
    "            duplicatesSet.add(event)\n",
    "    print ('number of events that are in both sets: {}'.format(len(duplicatesSet)))\n",
    "    \n",
    "    print ('FINISHED')\n",
    "except:\n",
    "    print ('ERROR')\n",
    "    \n",
    "end = time.time()        \n",
    "print ('EXECUTION TIME: {} s'.format(end-start))"
   ]
  },
  {
   "cell_type": "code",
   "execution_count": null,
   "metadata": {
    "collapsed": true
   },
   "outputs": [],
   "source": []
  }
 ],
 "metadata": {
  "kernelspec": {
   "display_name": "Python [Root]",
   "language": "python",
   "name": "Python [Root]"
  },
  "language_info": {
   "codemirror_mode": {
    "name": "ipython",
    "version": 2
   },
   "file_extension": ".py",
   "mimetype": "text/x-python",
   "name": "python",
   "nbconvert_exporter": "python",
   "pygments_lexer": "ipython2",
   "version": "2.7.12"
  }
 },
 "nbformat": 4,
 "nbformat_minor": 0
}
